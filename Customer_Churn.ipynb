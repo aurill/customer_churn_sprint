{
  "nbformat": 4,
  "nbformat_minor": 0,
  "metadata": {
    "colab": {
      "provenance": [],
      "authorship_tag": "ABX9TyM28QH0CQ27j5H0W8DwFMxM",
      "include_colab_link": true
    },
    "kernelspec": {
      "name": "python3",
      "display_name": "Python 3"
    },
    "language_info": {
      "name": "python"
    }
  },
  "cells": [
    {
      "cell_type": "markdown",
      "metadata": {
        "id": "view-in-github",
        "colab_type": "text"
      },
      "source": [
        "<a href=\"https://colab.research.google.com/github/aurill/customer_churn_sprint/blob/main/Customer_Churn.ipynb\" target=\"_parent\"><img src=\"https://colab.research.google.com/assets/colab-badge.svg\" alt=\"Open In Colab\"/></a>"
      ]
    },
    {
      "cell_type": "code",
      "execution_count": 59,
      "metadata": {
        "id": "fOCl8rNSE2Q5"
      },
      "outputs": [],
      "source": [
        "from google.colab import drive"
      ]
    },
    {
      "cell_type": "code",
      "source": [
        "# Installing the neccessary packages & importing libraries\n",
        "!pip install pyforest\n",
        "import pyforest"
      ],
      "metadata": {
        "id": "QW6TavMgE_bj",
        "colab": {
          "base_uri": "https://localhost:8080/"
        },
        "outputId": "f03648ea-700c-444e-ccbc-45240b7371c2"
      },
      "execution_count": 72,
      "outputs": [
        {
          "output_type": "stream",
          "name": "stdout",
          "text": [
            "Requirement already satisfied: pyforest in /usr/local/lib/python3.10/dist-packages (1.1.0)\n"
          ]
        }
      ]
    },
    {
      "cell_type": "code",
      "source": [
        "drive.mount('/content/gdrive')"
      ],
      "metadata": {
        "colab": {
          "base_uri": "https://localhost:8080/"
        },
        "id": "JZ7A2M6hHJli",
        "outputId": "156d23c4-33b8-4107-a241-be3b69bf11d0"
      },
      "execution_count": 61,
      "outputs": [
        {
          "output_type": "stream",
          "name": "stdout",
          "text": [
            "Drive already mounted at /content/gdrive; to attempt to forcibly remount, call drive.mount(\"/content/gdrive\", force_remount=True).\n"
          ]
        }
      ]
    },
    {
      "cell_type": "code",
      "source": [
        "data= pd.read_excel(r'/content/gdrive/My Drive/Customer Churn/Customer Churn Main.xlsx')"
      ],
      "metadata": {
        "colab": {
          "base_uri": "https://localhost:8080/",
          "height": 17
        },
        "id": "MQqZf0mkHNQr",
        "outputId": "42268ef9-7c87-4c90-d143-c8cc7317c974"
      },
      "execution_count": 62,
      "outputs": [
        {
          "output_type": "display_data",
          "data": {
            "text/plain": [
              "<IPython.core.display.Javascript object>"
            ],
            "application/javascript": [
              "\n",
              "        if (window._pyforest_update_imports_cell) { window._pyforest_update_imports_cell('import fastai\\nimport sklearn\\nfrom sklearn.ensemble import RandomForestClassifier\\nfrom sklearn.model_selection import train_test_split\\nimport pandas as pd\\nimport xgboost as xgb\\nfrom sklearn.preprocessing import MinMaxScaler\\nfrom sklearn.linear_model import LogisticRegression'); }\n",
              "    "
            ]
          },
          "metadata": {}
        }
      ]
    },
    {
      "cell_type": "code",
      "source": [
        "data.head(6)"
      ],
      "metadata": {
        "colab": {
          "base_uri": "https://localhost:8080/",
          "height": 238
        },
        "id": "Fu0YdTBgIQUr",
        "outputId": "acfd558f-1db5-4f98-8d57-193af814ea6c"
      },
      "execution_count": 63,
      "outputs": [
        {
          "output_type": "execute_result",
          "data": {
            "text/plain": [
              "  Customer_ID  Age  Contract_Type  Monthly_Charges  Total_Charges  Tenure  \\\n",
              "0    68382346   34              1             4219         291111      61   \n",
              "1    56062054   27              1             6541         170066      20   \n",
              "2    49461022   47              0             2792         175896      36   \n",
              "3    68472136   73              1             4852          87336      42   \n",
              "4    55289292   60              0             3439          82536      26   \n",
              "5    55111438   19              1             8732          61124      21   \n",
              "\n",
              "   Phone_Service  Multiple_Lines  Online_Backup  Churn  Active_Member  \\\n",
              "0              1               0              1      0              1   \n",
              "1              0               0              0      1              1   \n",
              "2              1               1              1      1              1   \n",
              "3              0               1              0      1              1   \n",
              "4              0               1              1      0              1   \n",
              "5              0               1              0      0              0   \n",
              "\n",
              "   Customer Complains  \n",
              "0                   1  \n",
              "1                   1  \n",
              "2                   1  \n",
              "3                   1  \n",
              "4                   1  \n",
              "5                   0  "
            ],
            "text/html": [
              "\n",
              "  <div id=\"df-6d742e6f-de66-41e6-bcd4-659fea5434eb\" class=\"colab-df-container\">\n",
              "    <div>\n",
              "<style scoped>\n",
              "    .dataframe tbody tr th:only-of-type {\n",
              "        vertical-align: middle;\n",
              "    }\n",
              "\n",
              "    .dataframe tbody tr th {\n",
              "        vertical-align: top;\n",
              "    }\n",
              "\n",
              "    .dataframe thead th {\n",
              "        text-align: right;\n",
              "    }\n",
              "</style>\n",
              "<table border=\"1\" class=\"dataframe\">\n",
              "  <thead>\n",
              "    <tr style=\"text-align: right;\">\n",
              "      <th></th>\n",
              "      <th>Customer_ID</th>\n",
              "      <th>Age</th>\n",
              "      <th>Contract_Type</th>\n",
              "      <th>Monthly_Charges</th>\n",
              "      <th>Total_Charges</th>\n",
              "      <th>Tenure</th>\n",
              "      <th>Phone_Service</th>\n",
              "      <th>Multiple_Lines</th>\n",
              "      <th>Online_Backup</th>\n",
              "      <th>Churn</th>\n",
              "      <th>Active_Member</th>\n",
              "      <th>Customer Complains</th>\n",
              "    </tr>\n",
              "  </thead>\n",
              "  <tbody>\n",
              "    <tr>\n",
              "      <th>0</th>\n",
              "      <td>68382346</td>\n",
              "      <td>34</td>\n",
              "      <td>1</td>\n",
              "      <td>4219</td>\n",
              "      <td>291111</td>\n",
              "      <td>61</td>\n",
              "      <td>1</td>\n",
              "      <td>0</td>\n",
              "      <td>1</td>\n",
              "      <td>0</td>\n",
              "      <td>1</td>\n",
              "      <td>1</td>\n",
              "    </tr>\n",
              "    <tr>\n",
              "      <th>1</th>\n",
              "      <td>56062054</td>\n",
              "      <td>27</td>\n",
              "      <td>1</td>\n",
              "      <td>6541</td>\n",
              "      <td>170066</td>\n",
              "      <td>20</td>\n",
              "      <td>0</td>\n",
              "      <td>0</td>\n",
              "      <td>0</td>\n",
              "      <td>1</td>\n",
              "      <td>1</td>\n",
              "      <td>1</td>\n",
              "    </tr>\n",
              "    <tr>\n",
              "      <th>2</th>\n",
              "      <td>49461022</td>\n",
              "      <td>47</td>\n",
              "      <td>0</td>\n",
              "      <td>2792</td>\n",
              "      <td>175896</td>\n",
              "      <td>36</td>\n",
              "      <td>1</td>\n",
              "      <td>1</td>\n",
              "      <td>1</td>\n",
              "      <td>1</td>\n",
              "      <td>1</td>\n",
              "      <td>1</td>\n",
              "    </tr>\n",
              "    <tr>\n",
              "      <th>3</th>\n",
              "      <td>68472136</td>\n",
              "      <td>73</td>\n",
              "      <td>1</td>\n",
              "      <td>4852</td>\n",
              "      <td>87336</td>\n",
              "      <td>42</td>\n",
              "      <td>0</td>\n",
              "      <td>1</td>\n",
              "      <td>0</td>\n",
              "      <td>1</td>\n",
              "      <td>1</td>\n",
              "      <td>1</td>\n",
              "    </tr>\n",
              "    <tr>\n",
              "      <th>4</th>\n",
              "      <td>55289292</td>\n",
              "      <td>60</td>\n",
              "      <td>0</td>\n",
              "      <td>3439</td>\n",
              "      <td>82536</td>\n",
              "      <td>26</td>\n",
              "      <td>0</td>\n",
              "      <td>1</td>\n",
              "      <td>1</td>\n",
              "      <td>0</td>\n",
              "      <td>1</td>\n",
              "      <td>1</td>\n",
              "    </tr>\n",
              "    <tr>\n",
              "      <th>5</th>\n",
              "      <td>55111438</td>\n",
              "      <td>19</td>\n",
              "      <td>1</td>\n",
              "      <td>8732</td>\n",
              "      <td>61124</td>\n",
              "      <td>21</td>\n",
              "      <td>0</td>\n",
              "      <td>1</td>\n",
              "      <td>0</td>\n",
              "      <td>0</td>\n",
              "      <td>0</td>\n",
              "      <td>0</td>\n",
              "    </tr>\n",
              "  </tbody>\n",
              "</table>\n",
              "</div>\n",
              "    <div class=\"colab-df-buttons\">\n",
              "\n",
              "  <div class=\"colab-df-container\">\n",
              "    <button class=\"colab-df-convert\" onclick=\"convertToInteractive('df-6d742e6f-de66-41e6-bcd4-659fea5434eb')\"\n",
              "            title=\"Convert this dataframe to an interactive table.\"\n",
              "            style=\"display:none;\">\n",
              "\n",
              "  <svg xmlns=\"http://www.w3.org/2000/svg\" height=\"24px\" viewBox=\"0 -960 960 960\">\n",
              "    <path d=\"M120-120v-720h720v720H120Zm60-500h600v-160H180v160Zm220 220h160v-160H400v160Zm0 220h160v-160H400v160ZM180-400h160v-160H180v160Zm440 0h160v-160H620v160ZM180-180h160v-160H180v160Zm440 0h160v-160H620v160Z\"/>\n",
              "  </svg>\n",
              "    </button>\n",
              "\n",
              "  <style>\n",
              "    .colab-df-container {\n",
              "      display:flex;\n",
              "      gap: 12px;\n",
              "    }\n",
              "\n",
              "    .colab-df-convert {\n",
              "      background-color: #E8F0FE;\n",
              "      border: none;\n",
              "      border-radius: 50%;\n",
              "      cursor: pointer;\n",
              "      display: none;\n",
              "      fill: #1967D2;\n",
              "      height: 32px;\n",
              "      padding: 0 0 0 0;\n",
              "      width: 32px;\n",
              "    }\n",
              "\n",
              "    .colab-df-convert:hover {\n",
              "      background-color: #E2EBFA;\n",
              "      box-shadow: 0px 1px 2px rgba(60, 64, 67, 0.3), 0px 1px 3px 1px rgba(60, 64, 67, 0.15);\n",
              "      fill: #174EA6;\n",
              "    }\n",
              "\n",
              "    .colab-df-buttons div {\n",
              "      margin-bottom: 4px;\n",
              "    }\n",
              "\n",
              "    [theme=dark] .colab-df-convert {\n",
              "      background-color: #3B4455;\n",
              "      fill: #D2E3FC;\n",
              "    }\n",
              "\n",
              "    [theme=dark] .colab-df-convert:hover {\n",
              "      background-color: #434B5C;\n",
              "      box-shadow: 0px 1px 3px 1px rgba(0, 0, 0, 0.15);\n",
              "      filter: drop-shadow(0px 1px 2px rgba(0, 0, 0, 0.3));\n",
              "      fill: #FFFFFF;\n",
              "    }\n",
              "  </style>\n",
              "\n",
              "    <script>\n",
              "      const buttonEl =\n",
              "        document.querySelector('#df-6d742e6f-de66-41e6-bcd4-659fea5434eb button.colab-df-convert');\n",
              "      buttonEl.style.display =\n",
              "        google.colab.kernel.accessAllowed ? 'block' : 'none';\n",
              "\n",
              "      async function convertToInteractive(key) {\n",
              "        const element = document.querySelector('#df-6d742e6f-de66-41e6-bcd4-659fea5434eb');\n",
              "        const dataTable =\n",
              "          await google.colab.kernel.invokeFunction('convertToInteractive',\n",
              "                                                    [key], {});\n",
              "        if (!dataTable) return;\n",
              "\n",
              "        const docLinkHtml = 'Like what you see? Visit the ' +\n",
              "          '<a target=\"_blank\" href=https://colab.research.google.com/notebooks/data_table.ipynb>data table notebook</a>'\n",
              "          + ' to learn more about interactive tables.';\n",
              "        element.innerHTML = '';\n",
              "        dataTable['output_type'] = 'display_data';\n",
              "        await google.colab.output.renderOutput(dataTable, element);\n",
              "        const docLink = document.createElement('div');\n",
              "        docLink.innerHTML = docLinkHtml;\n",
              "        element.appendChild(docLink);\n",
              "      }\n",
              "    </script>\n",
              "  </div>\n",
              "\n",
              "\n",
              "<div id=\"df-2ef87455-ea0e-4a46-8c51-e84bdf7ac426\">\n",
              "  <button class=\"colab-df-quickchart\" onclick=\"quickchart('df-2ef87455-ea0e-4a46-8c51-e84bdf7ac426')\"\n",
              "            title=\"Suggest charts.\"\n",
              "            style=\"display:none;\">\n",
              "\n",
              "<svg xmlns=\"http://www.w3.org/2000/svg\" height=\"24px\"viewBox=\"0 0 24 24\"\n",
              "     width=\"24px\">\n",
              "    <g>\n",
              "        <path d=\"M19 3H5c-1.1 0-2 .9-2 2v14c0 1.1.9 2 2 2h14c1.1 0 2-.9 2-2V5c0-1.1-.9-2-2-2zM9 17H7v-7h2v7zm4 0h-2V7h2v10zm4 0h-2v-4h2v4z\"/>\n",
              "    </g>\n",
              "</svg>\n",
              "  </button>\n",
              "\n",
              "<style>\n",
              "  .colab-df-quickchart {\n",
              "      --bg-color: #E8F0FE;\n",
              "      --fill-color: #1967D2;\n",
              "      --hover-bg-color: #E2EBFA;\n",
              "      --hover-fill-color: #174EA6;\n",
              "      --disabled-fill-color: #AAA;\n",
              "      --disabled-bg-color: #DDD;\n",
              "  }\n",
              "\n",
              "  [theme=dark] .colab-df-quickchart {\n",
              "      --bg-color: #3B4455;\n",
              "      --fill-color: #D2E3FC;\n",
              "      --hover-bg-color: #434B5C;\n",
              "      --hover-fill-color: #FFFFFF;\n",
              "      --disabled-bg-color: #3B4455;\n",
              "      --disabled-fill-color: #666;\n",
              "  }\n",
              "\n",
              "  .colab-df-quickchart {\n",
              "    background-color: var(--bg-color);\n",
              "    border: none;\n",
              "    border-radius: 50%;\n",
              "    cursor: pointer;\n",
              "    display: none;\n",
              "    fill: var(--fill-color);\n",
              "    height: 32px;\n",
              "    padding: 0;\n",
              "    width: 32px;\n",
              "  }\n",
              "\n",
              "  .colab-df-quickchart:hover {\n",
              "    background-color: var(--hover-bg-color);\n",
              "    box-shadow: 0 1px 2px rgba(60, 64, 67, 0.3), 0 1px 3px 1px rgba(60, 64, 67, 0.15);\n",
              "    fill: var(--button-hover-fill-color);\n",
              "  }\n",
              "\n",
              "  .colab-df-quickchart-complete:disabled,\n",
              "  .colab-df-quickchart-complete:disabled:hover {\n",
              "    background-color: var(--disabled-bg-color);\n",
              "    fill: var(--disabled-fill-color);\n",
              "    box-shadow: none;\n",
              "  }\n",
              "\n",
              "  .colab-df-spinner {\n",
              "    border: 2px solid var(--fill-color);\n",
              "    border-color: transparent;\n",
              "    border-bottom-color: var(--fill-color);\n",
              "    animation:\n",
              "      spin 1s steps(1) infinite;\n",
              "  }\n",
              "\n",
              "  @keyframes spin {\n",
              "    0% {\n",
              "      border-color: transparent;\n",
              "      border-bottom-color: var(--fill-color);\n",
              "      border-left-color: var(--fill-color);\n",
              "    }\n",
              "    20% {\n",
              "      border-color: transparent;\n",
              "      border-left-color: var(--fill-color);\n",
              "      border-top-color: var(--fill-color);\n",
              "    }\n",
              "    30% {\n",
              "      border-color: transparent;\n",
              "      border-left-color: var(--fill-color);\n",
              "      border-top-color: var(--fill-color);\n",
              "      border-right-color: var(--fill-color);\n",
              "    }\n",
              "    40% {\n",
              "      border-color: transparent;\n",
              "      border-right-color: var(--fill-color);\n",
              "      border-top-color: var(--fill-color);\n",
              "    }\n",
              "    60% {\n",
              "      border-color: transparent;\n",
              "      border-right-color: var(--fill-color);\n",
              "    }\n",
              "    80% {\n",
              "      border-color: transparent;\n",
              "      border-right-color: var(--fill-color);\n",
              "      border-bottom-color: var(--fill-color);\n",
              "    }\n",
              "    90% {\n",
              "      border-color: transparent;\n",
              "      border-bottom-color: var(--fill-color);\n",
              "    }\n",
              "  }\n",
              "</style>\n",
              "\n",
              "  <script>\n",
              "    async function quickchart(key) {\n",
              "      const quickchartButtonEl =\n",
              "        document.querySelector('#' + key + ' button');\n",
              "      quickchartButtonEl.disabled = true;  // To prevent multiple clicks.\n",
              "      quickchartButtonEl.classList.add('colab-df-spinner');\n",
              "      try {\n",
              "        const charts = await google.colab.kernel.invokeFunction(\n",
              "            'suggestCharts', [key], {});\n",
              "      } catch (error) {\n",
              "        console.error('Error during call to suggestCharts:', error);\n",
              "      }\n",
              "      quickchartButtonEl.classList.remove('colab-df-spinner');\n",
              "      quickchartButtonEl.classList.add('colab-df-quickchart-complete');\n",
              "    }\n",
              "    (() => {\n",
              "      let quickchartButtonEl =\n",
              "        document.querySelector('#df-2ef87455-ea0e-4a46-8c51-e84bdf7ac426 button');\n",
              "      quickchartButtonEl.style.display =\n",
              "        google.colab.kernel.accessAllowed ? 'block' : 'none';\n",
              "    })();\n",
              "  </script>\n",
              "</div>\n",
              "    </div>\n",
              "  </div>\n"
            ]
          },
          "metadata": {},
          "execution_count": 63
        }
      ]
    },
    {
      "cell_type": "code",
      "source": [
        "data.info()"
      ],
      "metadata": {
        "colab": {
          "base_uri": "https://localhost:8080/"
        },
        "id": "_eD9ly2GIdif",
        "outputId": "0a1d9abc-616b-47a2-848c-851b24653b3b"
      },
      "execution_count": 64,
      "outputs": [
        {
          "output_type": "stream",
          "name": "stdout",
          "text": [
            "<class 'pandas.core.frame.DataFrame'>\n",
            "RangeIndex: 947 entries, 0 to 946\n",
            "Data columns (total 12 columns):\n",
            " #   Column              Non-Null Count  Dtype \n",
            "---  ------              --------------  ----- \n",
            " 0   Customer_ID         947 non-null    object\n",
            " 1   Age                 947 non-null    int64 \n",
            " 2   Contract_Type       947 non-null    int64 \n",
            " 3   Monthly_Charges     947 non-null    int64 \n",
            " 4   Total_Charges       947 non-null    int64 \n",
            " 5   Tenure              947 non-null    int64 \n",
            " 6   Phone_Service       947 non-null    int64 \n",
            " 7   Multiple_Lines      947 non-null    int64 \n",
            " 8   Online_Backup       947 non-null    int64 \n",
            " 9   Churn               947 non-null    int64 \n",
            " 10  Active_Member       947 non-null    int64 \n",
            " 11  Customer Complains  947 non-null    int64 \n",
            "dtypes: int64(11), object(1)\n",
            "memory usage: 88.9+ KB\n"
          ]
        }
      ]
    },
    {
      "cell_type": "markdown",
      "source": [
        "## **Data Preprocessing**"
      ],
      "metadata": {
        "id": "wVJr4Z1VaFRA"
      }
    },
    {
      "cell_type": "code",
      "source": [
        "data.corr()['Churn'].sort_values()"
      ],
      "metadata": {
        "colab": {
          "base_uri": "https://localhost:8080/"
        },
        "id": "yYF_b85aKhK7",
        "outputId": "5be7e7a1-b5b7-4bd1-dec5-ec4fed63a414"
      },
      "execution_count": 65,
      "outputs": [
        {
          "output_type": "stream",
          "name": "stderr",
          "text": [
            "<ipython-input-65-5e91c37ee28d>:1: FutureWarning: The default value of numeric_only in DataFrame.corr is deprecated. In a future version, it will default to False. Select only valid columns or specify the value of numeric_only to silence this warning.\n",
            "  data.corr()['Churn'].sort_values()\n"
          ]
        },
        {
          "output_type": "execute_result",
          "data": {
            "text/plain": [
              "Age                  -0.036481\n",
              "Contract_Type        -0.026307\n",
              "Phone_Service        -0.019158\n",
              "Online_Backup        -0.013572\n",
              "Monthly_Charges      -0.000162\n",
              "Total_Charges         0.007913\n",
              "Multiple_Lines        0.070367\n",
              "Tenure                0.272682\n",
              "Active_Member         0.941265\n",
              "Customer Complains    0.941265\n",
              "Churn                 1.000000\n",
              "Name: Churn, dtype: float64"
            ]
          },
          "metadata": {},
          "execution_count": 65
        }
      ]
    },
    {
      "cell_type": "markdown",
      "source": [
        "## **Train / Test Split**"
      ],
      "metadata": {
        "id": "TSc238Xo-Va0"
      }
    },
    {
      "cell_type": "code",
      "source": [
        "# Split data into train and test sets\n",
        "features = ['Tenure', 'Customer Complains', 'Active_Member']\n",
        "X_train, X_test, y_train, y_test = train_test_split(data[features], data['Churn'], test_size = 0.25, random_state = 42)\n",
        "X_train.shape, X_test.shape"
      ],
      "metadata": {
        "colab": {
          "base_uri": "https://localhost:8080/",
          "height": 34
        },
        "id": "ij0We8ZSlihz",
        "outputId": "6b6e8333-2a75-4b4d-e60c-2029a7bf6d31"
      },
      "execution_count": 66,
      "outputs": [
        {
          "output_type": "display_data",
          "data": {
            "text/plain": [
              "<IPython.core.display.Javascript object>"
            ],
            "application/javascript": [
              "\n",
              "        if (window._pyforest_update_imports_cell) { window._pyforest_update_imports_cell('import fastai\\nimport sklearn\\nfrom sklearn.ensemble import RandomForestClassifier\\nfrom sklearn.model_selection import train_test_split\\nimport pandas as pd\\nimport xgboost as xgb\\nfrom sklearn.preprocessing import MinMaxScaler\\nfrom sklearn.linear_model import LogisticRegression'); }\n",
              "    "
            ]
          },
          "metadata": {}
        },
        {
          "output_type": "execute_result",
          "data": {
            "text/plain": [
              "((710, 3), (237, 3))"
            ]
          },
          "metadata": {},
          "execution_count": 66
        }
      ]
    },
    {
      "cell_type": "markdown",
      "source": [
        "## **Model Selection**"
      ],
      "metadata": {
        "id": "bqrDNGEJ9iyx"
      }
    },
    {
      "cell_type": "markdown",
      "source": [
        "# **Ridge Classifier with Grid Search**\n",
        "\n",
        "\n"
      ],
      "metadata": {
        "id": "p2QbwEnM8bfb"
      }
    },
    {
      "cell_type": "code",
      "source": [
        "from sklearn.linear_model import RidgeClassifier\n",
        "from sklearn.model_selection import GridSearchCV\n",
        "from sklearn.metrics import accuracy_score, recall_score, precision_score, roc_auc_score\n",
        "\n",
        "# Defining the hyperparameter grid\n",
        "param_grid = {'alpha': [0.1, 1, 10, 100]}\n",
        "\n",
        "# Creating the Ridge Classifier\n",
        "ridgeclassifier = RidgeClassifier()\n",
        "\n",
        "# Performing grid search\n",
        "grid_search = GridSearchCV(ridgeclassifier, param_grid, cv=5, scoring='accuracy')\n",
        "grid_search.fit(X_train, y_train)\n",
        "\n",
        "# Getting the best hyperparameters\n",
        "best_alpha = grid_search.best_params_['alpha']\n",
        "\n",
        "# Training the Ridge Classifier with the best hyperparameters\n",
        "ridgeclassifier = RidgeClassifier(alpha=best_alpha)\n",
        "ridgeclassifier.fit(X_train, y_train)\n",
        "\n",
        "# Predicting testing values\n",
        "y_pred_test = ridgeclassifier.predict(X_test)\n",
        "\n",
        "# Calculating accuracy\n",
        "accuracy = accuracy_score(y_test, y_pred_test) * 100\n",
        "recall = recall_score(y_test,y_pred) * 100\n",
        "precision = precision_score(y_test,y_pred) * 100\n",
        "roc_auc = roc_auc_score(y_test, model.predict_proba(X_test)[: , 1]) * 100\n",
        "\n",
        "print(f'Ridge Classifier Accuracy Score : {accuracy:.3f} %')\n",
        "print(f'Ridge Classifier Recall Score : {recall:.3f} %')\n",
        "print(f'Ridge Classifier Precision Score : {precision:.3f} %')\n",
        "print(f'Ridge Classifier roc auc Score : {roc_auc:.3f} %')"
      ],
      "metadata": {
        "colab": {
          "base_uri": "https://localhost:8080/"
        },
        "id": "rDaiwMcR80QY",
        "outputId": "63289bf6-a57d-4f85-e7ee-912e2998d8f3"
      },
      "execution_count": 98,
      "outputs": [
        {
          "output_type": "stream",
          "name": "stdout",
          "text": [
            "Ridge Classifier Accuracy Score : 96.203 %\n",
            "Ridge Classifier Recall Score : 99.275 %\n",
            "Ridge Classifier Precision Score : 94.483 %\n",
            "Ridge Classifier roc auc Score : 94.675 %\n"
          ]
        }
      ]
    },
    {
      "cell_type": "markdown",
      "source": [
        "# **LightGBM Classifier with Bayesian Optimization**\n",
        "\n"
      ],
      "metadata": {
        "id": "PxbUbDv8Knsu"
      }
    },
    {
      "cell_type": "code",
      "source": [
        "!pip install scikit-optimize\n",
        "\n",
        "from skopt import BayesSearchCV\n",
        "from skopt.space import Real, Integer\n",
        "import lightgbm as lgb\n",
        "from sklearn.metrics import accuracy_score, recall_score, precision_score, roc_auc_score\n",
        "\n",
        "# Define the search space for hyperparameters\n",
        "param_space = {\n",
        "    'learning_rate': Real(0.01, 1.0, 'log-uniform'),\n",
        "    'max_depth': Integer(1, 32),\n",
        "    'num_leaves': Integer(2, 256),\n",
        "    'min_child_samples': Integer(1, 100),\n",
        "    'subsample': Real(0.1, 1.0, 'uniform'),\n",
        "    'colsample_bytree': Real(0.1, 1.0, 'uniform'),\n",
        "    'n_estimators': Integer(50, 1000)\n",
        "}\n",
        "\n",
        "# Create a LightGBM Classifier\n",
        "lgb_classifier = lgb.LGBMClassifier(verbose=-1)\n",
        "\n",
        "# Use Bayesian optimization with cross-validation to find the best hyperparameters\n",
        "opt = BayesSearchCV(\n",
        "    lgb_classifier,\n",
        "    param_space,\n",
        "    n_iter=50,  # Number of optimization iterations\n",
        "    scoring='roc_auc',  # Choose an appropriate metric for your problem\n",
        "    cv=5,  # Number of cross-validation folds\n",
        "    n_jobs=-1  # Use all available CPU cores\n",
        ")\n",
        "opt.fit(X_train, y_train)\n",
        "\n",
        "# Get the best hyperparameters\n",
        "best_params = opt.best_params_\n",
        "\n",
        "# Train the LightGBM Classifier with the best hyperparameters\n",
        "best_lgb_classifier = lgb.LGBMClassifier(**best_params, verbose=-1)\n",
        "best_lgb_classifier.fit(X_train, y_train)\n",
        "\n",
        "# Evaluate the optimized LightGBM Classifier\n",
        "y_pred_test = best_lgb_classifier.predict(X_test)\n",
        "accuracy = accuracy_score(y_test, y_pred_test) * 100\n",
        "recall = recall_score(y_test, y_pred_test) * 100\n",
        "precision = precision_score(y_test, y_pred_test) * 100\n",
        "roc_auc = roc_auc_score(y_test, best_lgb_classifier.predict_proba(X_test)[:, 1]) * 100\n",
        "\n",
        "print(f'LightGBM Accuracy Score: {accuracy:.3f} %')\n",
        "print(f'LightGBM Recall Score: {recall:.3f} %')\n",
        "print(f'LightGBM Precision Score: {precision:.3f} %')\n",
        "print(f'LightGBM ROC AUC Score: {roc_auc:.3f} %')\n"
      ],
      "metadata": {
        "colab": {
          "base_uri": "https://localhost:8080/"
        },
        "id": "R32iB4YMJbqs",
        "outputId": "4d7a71e2-efa9-4649-cd79-d7aee186f760"
      },
      "execution_count": 97,
      "outputs": [
        {
          "output_type": "stream",
          "name": "stdout",
          "text": [
            "Requirement already satisfied: scikit-optimize in /usr/local/lib/python3.10/dist-packages (0.9.0)\n",
            "Requirement already satisfied: joblib>=0.11 in /usr/local/lib/python3.10/dist-packages (from scikit-optimize) (1.3.2)\n",
            "Requirement already satisfied: pyaml>=16.9 in /usr/local/lib/python3.10/dist-packages (from scikit-optimize) (23.9.7)\n",
            "Requirement already satisfied: numpy>=1.13.3 in /usr/local/lib/python3.10/dist-packages (from scikit-optimize) (1.23.5)\n",
            "Requirement already satisfied: scipy>=0.19.1 in /usr/local/lib/python3.10/dist-packages (from scikit-optimize) (1.11.2)\n",
            "Requirement already satisfied: scikit-learn>=0.20.0 in /usr/local/lib/python3.10/dist-packages (from scikit-optimize) (1.2.2)\n",
            "Requirement already satisfied: PyYAML in /usr/local/lib/python3.10/dist-packages (from pyaml>=16.9->scikit-optimize) (6.0.1)\n",
            "Requirement already satisfied: threadpoolctl>=2.0.0 in /usr/local/lib/python3.10/dist-packages (from scikit-learn>=0.20.0->scikit-optimize) (3.2.0)\n",
            "LightGBM Accuracy Score: 96.203 %\n",
            "LightGBM Recall Score: 99.275 %\n",
            "LightGBM Precision Score: 94.483 %\n",
            "LightGBM ROC AUC Score: 94.708 %\n"
          ]
        }
      ]
    }
  ]
}